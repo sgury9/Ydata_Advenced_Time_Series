{
  "nbformat": 4,
  "nbformat_minor": 0,
  "metadata": {
    "colab": {
      "name": "ex2-timeseries",
      "provenance": [],
      "collapsed_sections": [],
      "machine_shape": "hm"
    },
    "kernelspec": {
      "name": "python3",
      "display_name": "Python 3"
    },
    "accelerator": "GPU"
  },
  "cells": [
    {
      "cell_type": "markdown",
      "source": [
        "Exercise 2 ATS - Shai Gury , Max Romanov , Noy Buganim"
      ],
      "metadata": {
        "id": "gZCnLISQOuvj"
      }
    },
    {
      "cell_type": "markdown",
      "source": [
        "In HW 2 you need to create a prototype implementation of quantile forecaster from the HW 1 paper. This implementation does not need to be production-grade, but it must contain all the main moving parts of the model. The grading scheme is the same as in HW 1.\n"
      ],
      "metadata": {
        "id": "IaF7PMr9zUbL"
      }
    },
    {
      "cell_type": "code",
      "metadata": {
        "colab": {
          "base_uri": "https://localhost:8080/"
        },
        "id": "1JVEbXxUDT1n",
        "outputId": "36e97e3d-8fa9-47ac-a9f1-c7be28bfbc21"
      },
      "source": [
        "!rm -rf MQRNN/\n",
        "!git clone  https://github.com/tianchen101/MQRNN.git"
      ],
      "execution_count": null,
      "outputs": [
        {
          "output_type": "stream",
          "name": "stdout",
          "text": [
            "Cloning into 'MQRNN'...\n",
            "remote: Enumerating objects: 78, done.\u001b[K\n",
            "remote: Counting objects: 100% (78/78), done.\u001b[K\n",
            "remote: Compressing objects: 100% (53/53), done.\u001b[K\n",
            "remote: Total 78 (delta 35), reused 58 (delta 20), pack-reused 0\u001b[K\n",
            "Unpacking objects: 100% (78/78), done.\n"
          ]
        }
      ]
    },
    {
      "cell_type": "code",
      "source": [
        "!wget 'https://archive.ics.uci.edu/ml/machine-learning-databases/00321/LD2011_2014.txt.zip'\n",
        "!unzip 'LD2011_2014.txt.zip'"
      ],
      "metadata": {
        "colab": {
          "base_uri": "https://localhost:8080/"
        },
        "id": "-GCMSmJSeNdX",
        "outputId": "94e50924-a4a5-4682-f22a-11fada25282d"
      },
      "execution_count": null,
      "outputs": [
        {
          "output_type": "stream",
          "name": "stdout",
          "text": [
            "--2022-06-10 20:06:32--  https://archive.ics.uci.edu/ml/machine-learning-databases/00321/LD2011_2014.txt.zip\n",
            "Resolving archive.ics.uci.edu (archive.ics.uci.edu)... 128.195.10.252\n",
            "Connecting to archive.ics.uci.edu (archive.ics.uci.edu)|128.195.10.252|:443... connected.\n",
            "HTTP request sent, awaiting response... 200 OK\n",
            "Length: 261335609 (249M) [application/x-httpd-php]\n",
            "Saving to: ‘LD2011_2014.txt.zip’\n",
            "\n",
            "LD2011_2014.txt.zip 100%[===================>] 249.23M  82.5MB/s    in 3.0s    \n",
            "\n",
            "2022-06-10 20:06:35 (82.5 MB/s) - ‘LD2011_2014.txt.zip’ saved [261335609/261335609]\n",
            "\n",
            "Archive:  LD2011_2014.txt.zip\n",
            "  inflating: LD2011_2014.txt         \n",
            "   creating: __MACOSX/\n",
            "  inflating: __MACOSX/._LD2011_2014.txt  \n"
          ]
        }
      ]
    },
    {
      "cell_type": "code",
      "source": [
        "import numpy as np\n",
        "import pandas as pd\n",
        "# load all data\n",
        "dataset = pd.read_csv('/content/LD2011_2014.txt', sep=';', header=0, low_memory=False, infer_datetime_format=True, parse_dates={'datetime':[0]}, index_col=['datetime'])"
      ],
      "metadata": {
        "id": "1vt4-cEZeURC"
      },
      "execution_count": null,
      "outputs": []
    },
    {
      "cell_type": "code",
      "source": [
        "dataset.replace('?', np.nan, inplace=True)\n",
        "dataset.index = pd.to_datetime(dataset.index)\n",
        "dataset.sort_index(inplace=True)"
      ],
      "metadata": {
        "id": "wQ62Jet6eiFR"
      },
      "execution_count": null,
      "outputs": []
    },
    {
      "cell_type": "code",
      "source": [
        "dataset=dataset.astype('object')"
      ],
      "metadata": {
        "id": "ZdSEr7IfgXCV"
      },
      "execution_count": null,
      "outputs": []
    },
    {
      "cell_type": "code",
      "source": [
        "dt = dataset[['MT_010' ,'MT_014' , 'MT_006' , 'MT_004' , 'MT_005']].apply(lambda x: x.str.replace(',','.'))"
      ],
      "metadata": {
        "id": "lzAwRMLkered"
      },
      "execution_count": null,
      "outputs": []
    },
    {
      "cell_type": "code",
      "source": [
        "dt = dt['2012-01-01':].astype('float64')\n"
      ],
      "metadata": {
        "id": "ukPfQTOihvVB"
      },
      "execution_count": null,
      "outputs": []
    },
    {
      "cell_type": "code",
      "source": [
        "from matplotlib import pyplot\n",
        "# line plot for each variable\n",
        "pyplot.figure()\n",
        "for i in range(len(dt.columns)):\n",
        "\tpyplot.subplot(len(dt.columns), 1, i+1)\n",
        "\tname = dt.columns[i]\n",
        "\tpyplot.plot(dt[name])\n",
        "\tpyplot.title(name, y=0)\n",
        "pyplot.show()"
      ],
      "metadata": {
        "colab": {
          "base_uri": "https://localhost:8080/",
          "height": 268
        },
        "id": "Ti7lNL50MmMQ",
        "outputId": "7d0786d4-8059-4289-d813-2daca981e7c5"
      },
      "execution_count": null,
      "outputs": [
        {
          "output_type": "display_data",
          "data": {
            "text/plain": [
              "<Figure size 432x288 with 5 Axes>"
            ],
            "image/png": "[encoded data removed]"
          },
          "metadata": {
            "needs_background": "light"
          }
        }
      ]
    },
    {
      "cell_type": "code",
      "metadata": {
        "id": "ev1KexNADb33"
      },
      "source": [
        "from MQRNN import Encoder\n",
        "from MQRNN import Decoder\n",
        "from MQRNN.MQRNN import MQRNN \n",
        "from MQRNN.data import MQRNN_dataset,read_df"
      ],
      "execution_count": null,
      "outputs": []
    },
    {
      "cell_type": "code",
      "metadata": {
        "id": "isiMOXnfDz5F"
      },
      "source": [
        "config = {\n",
        "    'horizon_size':40,\n",
        "    'hidden_size':50,\n",
        "    'quantiles': [0.1, 0.25 , 0.5 , 0.75 , 0.9], \n",
        "    'columns': [1],\n",
        "    'dropout': 0.3,\n",
        "    'layer_size':2,\n",
        "    'by_direction':False,\n",
        "    'lr': 1e-3,\n",
        "    'batch_size': 1,\n",
        "    'num_epochs':500,\n",
        "    'context_size': 10,\n",
        "}"
      ],
      "execution_count": null,
      "outputs": []
    },
    {
      "cell_type": "code",
      "metadata": {
        "id": "axrMEPuDOct-"
      },
      "source": [
        "import torch\n",
        "device = torch.device('cuda:0' if torch.cuda.is_available() else 'cpu')"
      ],
      "execution_count": null,
      "outputs": []
    },
    {
      "cell_type": "code",
      "metadata": {
        "id": "UHzzo2ZgW5b-"
      },
      "source": [
        "x = pd.DataFrame(index =dt.index , data= {'hour':dt.index.hour ,\n",
        "                                           'dayofweek':dt.index.dayofweek ,\n",
        "                                           'month':dt.index.month ,\n",
        "                                            'minute':dt.index.minute ,\n",
        "                                \n",
        "                                          \n",
        "                                           })"
      ],
      "execution_count": null,
      "outputs": []
    },
    {
      "cell_type": "code",
      "source": [
        "y = dt"
      ],
      "metadata": {
        "id": "jYtMbKt5RA7I"
      },
      "execution_count": null,
      "outputs": []
    },
    {
      "cell_type": "code",
      "source": [
        "horizon = 40"
      ],
      "metadata": {
        "id": "ZJXv_V9lShvK"
      },
      "execution_count": null,
      "outputs": []
    },
    {
      "cell_type": "code",
      "source": [
        "train_y=y.iloc[:-horizon]\n",
        "test_y=y.iloc[-horizon:]\n",
        "train_x = x.iloc[:-horizon , :]\n",
        "test_x = x.iloc[-horizon: , :]\n",
        "train_x =train_x.iloc[-1000:,:]\n",
        "train_y =train_y.iloc[-1000:]\n",
        "\n"
      ],
      "metadata": {
        "id": "NcOFO6ZQR_QO"
      },
      "execution_count": null,
      "outputs": []
    },
    {
      "cell_type": "code",
      "metadata": {
        "colab": {
          "base_uri": "https://localhost:8080/"
        },
        "id": "gcmQ3nP-WAJK",
        "outputId": "0bb7778d-848d-4f7f-ef1f-486a2e2c8776"
      },
      "source": [
        "from MQRNN.data import MQRNN_dataset\n",
        "dset = MQRNN_dataset(train_y,train_x,40,1 )"
      ],
      "execution_count": null,
      "outputs": [
        {
          "output_type": "stream",
          "name": "stdout",
          "text": [
            "self.covariate_df.shape[0] : 1000\n",
            "full_covariate shape: (960, 1, 40, 4)\n"
          ]
        }
      ]
    },
    {
      "cell_type": "code",
      "metadata": {
        "colab": {
          "base_uri": "https://localhost:8080/"
        },
        "id": "F3BcLqmUOfBu",
        "outputId": "9c8558d6-d7e8-4af0-f4c9-bf0976e390f9"
      },
      "source": [
        "config['covariate_size'] = train_x.shape[1]\n",
        "config['device'] = device\n",
        "config "
      ],
      "execution_count": null,
      "outputs": [
        {
          "output_type": "execute_result",
          "data": {
            "text/plain": [
              "{'batch_size': 1,\n",
              " 'by_direction': False,\n",
              " 'columns': [1],\n",
              " 'context_size': 10,\n",
              " 'covariate_size': 4,\n",
              " 'device': device(type='cuda', index=0),\n",
              " 'dropout': 0.3,\n",
              " 'hidden_size': 50,\n",
              " 'horizon_size': 40,\n",
              " 'layer_size': 2,\n",
              " 'lr': 0.001,\n",
              " 'num_epochs': 500,\n",
              " 'quantiles': [0.1, 0.25, 0.5, 0.75, 0.9]}"
            ]
          },
          "metadata": {},
          "execution_count": 18
        }
      ]
    },
    {
      "cell_type": "code",
      "metadata": {
        "id": "217OK_S3Ohd_"
      },
      "source": [
        "import torch \n",
        "horizon_size = config['horizon_size']\n",
        "hidden_size = config['hidden_size']\n",
        "quantiles = config['quantiles']\n",
        "quantile_size = len(quantiles)\n",
        "columns = config['columns']\n",
        "dropout = config['dropout']\n",
        "layer_size = config['layer_size']\n",
        "by_direction = config['by_direction']\n",
        "lr = config['lr']\n",
        "batch_size= config['batch_size']\n",
        "num_epochs = config['num_epochs']\n",
        "context_size = config['context_size']\n",
        "covariate_size = config['covariate_size']\n",
        "device = torch.device('cuda:0' if torch.cuda.is_available() else 'cpu')"
      ],
      "execution_count": null,
      "outputs": []
    },
    {
      "cell_type": "code",
      "metadata": {
        "colab": {
          "base_uri": "https://localhost:8080/"
        },
        "id": "-BhVpomUOzhS",
        "outputId": "a814d3c0-0013-4b75-a2aa-cb19a1806377"
      },
      "source": [
        "net = MQRNN(horizon_size,hidden_size,quantiles,columns,dropout,layer_size,by_direction,lr,batch_size,num_epochs,context_size,covariate_size,device)"
      ],
      "execution_count": null,
      "outputs": [
        {
          "output_type": "stream",
          "name": "stdout",
          "text": [
            "device is: cuda:0\n"
          ]
        }
      ]
    },
    {
      "cell_type": "code",
      "metadata": {
        "colab": {
          "base_uri": "https://localhost:8080/"
        },
        "id": "koN6wZl7O1yG",
        "outputId": "2d2acffd-f880-4a00-fafd-b7ac1a1949dd"
      },
      "source": [
        "train_dataset = MQRNN_dataset(train_y,train_x,horizon_size,quantile_size)"
      ],
      "execution_count": null,
      "outputs": [
        {
          "output_type": "stream",
          "name": "stdout",
          "text": [
            "self.covariate_df.shape[0] : 1000\n",
            "full_covariate shape: (960, 1, 40, 4)\n"
          ]
        }
      ]
    },
    {
      "cell_type": "code",
      "source": [
        "train_dataset.covariate_df"
      ],
      "metadata": {
        "colab": {
          "base_uri": "https://localhost:8080/",
          "height": 450
        },
        "id": "38TZxpeLVm4u",
        "outputId": "7986a2db-bcb6-442d-8f2e-cc2bbc59021c"
      },
      "execution_count": null,
      "outputs": [
        {
          "output_type": "execute_result",
          "data": {
            "text/plain": [
              "                     hour  dayofweek  month  minute\n",
              "datetime                                           \n",
              "2014-12-21 04:15:00     4          6     12      15\n",
              "2014-12-21 04:30:00     4          6     12      30\n",
              "2014-12-21 04:45:00     4          6     12      45\n",
              "2014-12-21 05:00:00     5          6     12       0\n",
              "2014-12-21 05:15:00     5          6     12      15\n",
              "...                   ...        ...    ...     ...\n",
              "2014-12-31 13:00:00    13          2     12       0\n",
              "2014-12-31 13:15:00    13          2     12      15\n",
              "2014-12-31 13:30:00    13          2     12      30\n",
              "2014-12-31 13:45:00    13          2     12      45\n",
              "2014-12-31 14:00:00    14          2     12       0\n",
              "\n",
              "[1000 rows x 4 columns]"
            ],
            "text/html": [
              "\n",
              "  <div id=\"df-5732232a-da8f-4ea3-a0d2-cfb7b08d6ef1\">\n",
              "    <div class=\"colab-df-container\">\n",
              "      <div>\n",
              "<style scoped>\n",
              "    .dataframe tbody tr th:only-of-type {\n",
              "        vertical-align: middle;\n",
              "    }\n",
              "\n",
              "    .dataframe tbody tr th {\n",
              "        vertical-align: top;\n",
              "    }\n",
              "\n",
              "    .dataframe thead th {\n",
              "        text-align: right;\n",
              "    }\n",
              "</style>\n",
              "<table border=\"1\" class=\"dataframe\">\n",
              "  <thead>\n",
              "    <tr style=\"text-align: right;\">\n",
              "      <th></th>\n",
              "      <th>hour</th>\n",
              "      <th>dayofweek</th>\n",
              "      <th>month</th>\n",
              "      <th>minute</th>\n",
              "    </tr>\n",
              "    <tr>\n",
              "      <th>datetime</th>\n",
              "      <th></th>\n",
              "      <th></th>\n",
              "      <th></th>\n",
              "      <th></th>\n",
              "    </tr>\n",
              "  </thead>\n",
              "  <tbody>\n",
              "    <tr>\n",
              "      <th>2014-12-21 04:15:00</th>\n",
              "      <td>4</td>\n",
              "      <td>6</td>\n",
              "      <td>12</td>\n",
              "      <td>15</td>\n",
              "    </tr>\n",
              "    <tr>\n",
              "      <th>2014-12-21 04:30:00</th>\n",
              "      <td>4</td>\n",
              "      <td>6</td>\n",
              "      <td>12</td>\n",
              "      <td>30</td>\n",
              "    </tr>\n",
              "    <tr>\n",
              "      <th>2014-12-21 04:45:00</th>\n",
              "      <td>4</td>\n",
              "      <td>6</td>\n",
              "      <td>12</td>\n",
              "      <td>45</td>\n",
              "    </tr>\n",
              "    <tr>\n",
              "      <th>2014-12-21 05:00:00</th>\n",
              "      <td>5</td>\n",
              "      <td>6</td>\n",
              "      <td>12</td>\n",
              "      <td>0</td>\n",
              "    </tr>\n",
              "    <tr>\n",
              "      <th>2014-12-21 05:15:00</th>\n",
              "      <td>5</td>\n",
              "      <td>6</td>\n",
              "      <td>12</td>\n",
              "      <td>15</td>\n",
              "    </tr>\n",
              "    <tr>\n",
              "      <th>...</th>\n",
              "      <td>...</td>\n",
              "      <td>...</td>\n",
              "      <td>...</td>\n",
              "      <td>...</td>\n",
              "    </tr>\n",
              "    <tr>\n",
              "      <th>2014-12-31 13:00:00</th>\n",
              "      <td>13</td>\n",
              "      <td>2</td>\n",
              "      <td>12</td>\n",
              "      <td>0</td>\n",
              "    </tr>\n",
              "    <tr>\n",
              "      <th>2014-12-31 13:15:00</th>\n",
              "      <td>13</td>\n",
              "      <td>2</td>\n",
              "      <td>12</td>\n",
              "      <td>15</td>\n",
              "    </tr>\n",
              "    <tr>\n",
              "      <th>2014-12-31 13:30:00</th>\n",
              "      <td>13</td>\n",
              "      <td>2</td>\n",
              "      <td>12</td>\n",
              "      <td>30</td>\n",
              "    </tr>\n",
              "    <tr>\n",
              "      <th>2014-12-31 13:45:00</th>\n",
              "      <td>13</td>\n",
              "      <td>2</td>\n",
              "      <td>12</td>\n",
              "      <td>45</td>\n",
              "    </tr>\n",
              "    <tr>\n",
              "      <th>2014-12-31 14:00:00</th>\n",
              "      <td>14</td>\n",
              "      <td>2</td>\n",
              "      <td>12</td>\n",
              "      <td>0</td>\n",
              "    </tr>\n",
              "  </tbody>\n",
              "</table>\n",
              "<p>1000 rows × 4 columns</p>\n",
              "</div>\n",
              "      <button class=\"colab-df-convert\" onclick=\"convertToInteractive('df-5732232a-da8f-4ea3-a0d2-cfb7b08d6ef1')\"\n",
              "              title=\"Convert this dataframe to an interactive table.\"\n",
              "              style=\"display:none;\">\n",
              "        \n",
              "  <svg xmlns=\"http://www.w3.org/2000/svg\" height=\"24px\"viewBox=\"0 0 24 24\"\n",
              "       width=\"24px\">\n",
              "    <path d=\"M0 0h24v24H0V0z\" fill=\"none\"/>\n",
              "    <path d=\"M18.56 5.44l.94 2.06.94-2.06 2.06-.94-2.06-.94-.94-2.06-.94 2.06-2.06.94zm-11 1L8.5 8.5l.94-2.06 2.06-.94-2.06-.94L8.5 2.5l-.94 2.06-2.06.94zm10 10l.94 2.06.94-2.06 2.06-.94-2.06-.94-.94-2.06-.94 2.06-2.06.94z\"/><path d=\"M17.41 7.96l-1.37-1.37c-.4-.4-.92-.59-1.43-.59-.52 0-1.04.2-1.43.59L10.3 9.45l-7.72 7.72c-.78.78-.78 2.05 0 2.83L4 21.41c.39.39.9.59 1.41.59.51 0 1.02-.2 1.41-.59l7.78-7.78 2.81-2.81c.8-.78.8-2.07 0-2.86zM5.41 20L4 18.59l7.72-7.72 1.47 1.35L5.41 20z\"/>\n",
              "  </svg>\n",
              "      </button>\n",
              "      \n",
              "  <style>\n",
              "    .colab-df-container {\n",
              "      display:flex;\n",
              "      flex-wrap:wrap;\n",
              "      gap: 12px;\n",
              "    }\n",
              "\n",
              "    .colab-df-convert {\n",
              "      background-color: #E8F0FE;\n",
              "      border: none;\n",
              "      border-radius: 50%;\n",
              "      cursor: pointer;\n",
              "      display: none;\n",
              "      fill: #1967D2;\n",
              "      height: 32px;\n",
              "      padding: 0 0 0 0;\n",
              "      width: 32px;\n",
              "    }\n",
              "\n",
              "    .colab-df-convert:hover {\n",
              "      background-color: #E2EBFA;\n",
              "      box-shadow: 0px 1px 2px rgba(60, 64, 67, 0.3), 0px 1px 3px 1px rgba(60, 64, 67, 0.15);\n",
              "      fill: #174EA6;\n",
              "    }\n",
              "\n",
              "    [theme=dark] .colab-df-convert {\n",
              "      background-color: #3B4455;\n",
              "      fill: #D2E3FC;\n",
              "    }\n",
              "\n",
              "    [theme=dark] .colab-df-convert:hover {\n",
              "      background-color: #434B5C;\n",
              "      box-shadow: 0px 1px 3px 1px rgba(0, 0, 0, 0.15);\n",
              "      filter: drop-shadow(0px 1px 2px rgba(0, 0, 0, 0.3));\n",
              "      fill: #FFFFFF;\n",
              "    }\n",
              "  </style>\n",
              "\n",
              "      <script>\n",
              "        const buttonEl =\n",
              "          document.querySelector('#df-5732232a-da8f-4ea3-a0d2-cfb7b08d6ef1 button.colab-df-convert');\n",
              "        buttonEl.style.display =\n",
              "          google.colab.kernel.accessAllowed ? 'block' : 'none';\n",
              "\n",
              "        async function convertToInteractive(key) {\n",
              "          const element = document.querySelector('#df-5732232a-da8f-4ea3-a0d2-cfb7b08d6ef1');\n",
              "          const dataTable =\n",
              "            await google.colab.kernel.invokeFunction('convertToInteractive',\n",
              "                                                     [key], {});\n",
              "          if (!dataTable) return;\n",
              "\n",
              "          const docLinkHtml = 'Like what you see? Visit the ' +\n",
              "            '<a target=\"_blank\" href=https://colab.research.google.com/notebooks/data_table.ipynb>data table notebook</a>'\n",
              "            + ' to learn more about interactive tables.';\n",
              "          element.innerHTML = '';\n",
              "          dataTable['output_type'] = 'display_data';\n",
              "          await google.colab.output.renderOutput(dataTable, element);\n",
              "          const docLink = document.createElement('div');\n",
              "          docLink.innerHTML = docLinkHtml;\n",
              "          element.appendChild(docLink);\n",
              "        }\n",
              "      </script>\n",
              "    </div>\n",
              "  </div>\n",
              "  "
            ]
          },
          "metadata": {},
          "execution_count": 22
        }
      ]
    },
    {
      "cell_type": "code",
      "metadata": {
        "colab": {
          "base_uri": "https://localhost:8080/"
        },
        "id": "daxqFzC_RSfR",
        "outputId": "5f8c7b5f-e8ea-40d2-9b1e-52dc55d3015c"
      },
      "source": [
        "net.train(train_dataset)"
      ],
      "execution_count": null,
      "outputs": [
        {
          "output_type": "stream",
          "name": "stdout",
          "text": [
            "epoch_num 5, current loss is: 34.50675065104166\n",
            "epoch_num 10, current loss is: 35.661959635416665\n",
            "epoch_num 15, current loss is: 30.922906901041667\n",
            "epoch_num 20, current loss is: 27.054153645833335\n",
            "epoch_num 25, current loss is: 24.531297526041666\n",
            "epoch_num 30, current loss is: 20.637125651041668\n",
            "epoch_num 35, current loss is: 26.86653515625\n",
            "epoch_num 40, current loss is: 21.056201822916666\n",
            "epoch_num 45, current loss is: 23.787327962239583\n",
            "epoch_num 50, current loss is: 23.965443196614583\n",
            "epoch_num 55, current loss is: 21.423660319010416\n",
            "epoch_num 60, current loss is: 25.521264485677083\n",
            "epoch_num 65, current loss is: 26.649044270833333\n",
            "epoch_num 70, current loss is: 21.75265673828125\n",
            "epoch_num 75, current loss is: 21.312000325520835\n",
            "epoch_num 80, current loss is: 23.185146158854167\n",
            "epoch_num 85, current loss is: 24.951221028645833\n",
            "epoch_num 90, current loss is: 24.141365397135417\n",
            "epoch_num 95, current loss is: 21.290177734375\n",
            "epoch_num 100, current loss is: 19.65275830078125\n",
            "epoch_num 105, current loss is: 18.503153483072918\n",
            "epoch_num 110, current loss is: 17.971525716145834\n",
            "epoch_num 115, current loss is: 17.26660546875\n",
            "epoch_num 120, current loss is: 17.057333333333332\n",
            "epoch_num 125, current loss is: 17.74425830078125\n",
            "epoch_num 130, current loss is: 19.538378580729166\n",
            "epoch_num 135, current loss is: 19.94144580078125\n",
            "epoch_num 140, current loss is: 20.47531575520833\n",
            "epoch_num 145, current loss is: 30.75322900390625\n",
            "epoch_num 150, current loss is: 20.055864908854165\n",
            "epoch_num 155, current loss is: 18.140438802083334\n",
            "epoch_num 160, current loss is: 18.995503255208334\n",
            "epoch_num 165, current loss is: 18.610440104166667\n",
            "epoch_num 170, current loss is: 16.89362646484375\n",
            "epoch_num 175, current loss is: 18.426307454427082\n",
            "epoch_num 180, current loss is: 18.97846044921875\n",
            "epoch_num 185, current loss is: 21.04427197265625\n",
            "epoch_num 190, current loss is: 17.27544254557292\n",
            "epoch_num 195, current loss is: 16.80796663411458\n",
            "epoch_num 200, current loss is: 15.6105634765625\n",
            "epoch_num 205, current loss is: 15.56712109375\n",
            "epoch_num 210, current loss is: 15.897006022135416\n",
            "epoch_num 215, current loss is: 16.831839518229167\n",
            "epoch_num 220, current loss is: 16.13953271484375\n",
            "epoch_num 225, current loss is: 16.65271573893229\n",
            "epoch_num 230, current loss is: 16.294536783854166\n",
            "epoch_num 235, current loss is: 15.431747233072917\n",
            "epoch_num 240, current loss is: 16.5534833984375\n",
            "epoch_num 245, current loss is: 16.766384928385417\n",
            "epoch_num 250, current loss is: 15.162883951822916\n",
            "epoch_num 255, current loss is: 14.8327880859375\n",
            "epoch_num 260, current loss is: 14.528072591145833\n",
            "epoch_num 265, current loss is: 14.478191243489583\n",
            "epoch_num 270, current loss is: 14.700742350260416\n",
            "epoch_num 275, current loss is: 14.681947184244791\n",
            "epoch_num 280, current loss is: 16.46255875651042\n",
            "epoch_num 285, current loss is: 17.846454915364582\n",
            "epoch_num 290, current loss is: 16.103553873697916\n",
            "epoch_num 295, current loss is: 15.0014189453125\n",
            "epoch_num 300, current loss is: 16.142328938802084\n",
            "epoch_num 305, current loss is: 15.108475748697916\n",
            "epoch_num 310, current loss is: 14.233875895182292\n",
            "epoch_num 315, current loss is: 14.122883707682291\n",
            "epoch_num 320, current loss is: 14.322912272135417\n",
            "epoch_num 325, current loss is: 18.9848974609375\n",
            "epoch_num 330, current loss is: 14.664454264322917\n",
            "epoch_num 335, current loss is: 14.114358805338542\n",
            "epoch_num 340, current loss is: 14.220309000651042\n",
            "epoch_num 345, current loss is: 14.075501383463541\n",
            "epoch_num 350, current loss is: 14.497533528645834\n",
            "epoch_num 355, current loss is: 14.9761669921875\n",
            "epoch_num 360, current loss is: 18.052757242838542\n",
            "epoch_num 365, current loss is: 16.22133349609375\n",
            "epoch_num 370, current loss is: 14.17707763671875\n",
            "epoch_num 375, current loss is: 13.914374430338542\n",
            "epoch_num 380, current loss is: 13.608843994140624\n",
            "epoch_num 385, current loss is: 13.39225634765625\n",
            "epoch_num 390, current loss is: 14.477847493489584\n",
            "epoch_num 395, current loss is: 14.78099853515625\n",
            "epoch_num 400, current loss is: 13.679054524739584\n",
            "epoch_num 405, current loss is: 13.889183430989583\n",
            "epoch_num 410, current loss is: 13.21230615234375\n",
            "epoch_num 415, current loss is: 12.794039957682292\n",
            "epoch_num 420, current loss is: 14.712006510416666\n",
            "epoch_num 425, current loss is: 17.64007275390625\n",
            "epoch_num 430, current loss is: 13.588775227864584\n",
            "epoch_num 435, current loss is: 12.6915068359375\n",
            "epoch_num 440, current loss is: 12.680832845052084\n",
            "epoch_num 445, current loss is: 12.400704427083333\n",
            "epoch_num 450, current loss is: 12.553550699869792\n",
            "epoch_num 455, current loss is: 15.065444986979166\n",
            "epoch_num 460, current loss is: 12.117835205078125\n",
            "epoch_num 465, current loss is: 12.373636555989583\n",
            "epoch_num 470, current loss is: 12.515610595703125\n",
            "epoch_num 475, current loss is: 11.939446695963541\n",
            "epoch_num 480, current loss is: 18.82536531575521\n",
            "epoch_num 485, current loss is: 16.79935546875\n",
            "epoch_num 490, current loss is: 17.261423990885415\n",
            "epoch_num 495, current loss is: 19.035042236328124\n",
            "epoch_num 500, current loss is: 16.261060872395834\n",
            "training finished\n"
          ]
        }
      ]
    },
    {
      "cell_type": "code",
      "metadata": {
        "colab": {
          "base_uri": "https://localhost:8080/",
          "height": 1000
        },
        "id": "Ht5MAx7qZ2iU",
        "outputId": "59a02be1-8bc5-48e3-af73-9a4b58399182"
      },
      "source": [
        "import matplotlib.pyplot as plt\n",
        "for mat in ['MT_010' ,'MT_014' , 'MT_006' , 'MT_004' , 'MT_005']:\n",
        "  predict_result = net.predict(train_y,train_x,test_x,mat )\n",
        "  res = pd.Series(predict_result[0.5])\n",
        "  res.loc[res==0]=np.nan\n",
        "  plt.plot(res.interpolate(), color = 'r', label='prediction')\n",
        "  plt.plot(test_y[mat].to_list(), color= 'b', label='real')\n",
        "  plt.legend()\n",
        "  plt.show()"
      ],
      "execution_count": null,
      "outputs": [
        {
          "output_type": "stream",
          "name": "stdout",
          "text": [
            "input_target_covariate_tensor shape: torch.Size([1000, 1, 5])\n",
            "hidden shape: torch.Size([1, 1, 50])\n",
            "next_covariate_tensor: torch.Size([1, 1, 160])\n"
          ]
        },
        {
          "output_type": "display_data",
          "data": {
            "text/plain": [
              "<Figure size 432x288 with 1 Axes>"
            ],
            "image/png": "[encoded data removed]"
          },
          "metadata": {
            "needs_background": "light"
          }
        },
        {
          "output_type": "stream",
          "name": "stdout",
          "text": [
            "input_target_covariate_tensor shape: torch.Size([1000, 1, 5])\n",
            "hidden shape: torch.Size([1, 1, 50])\n",
            "next_covariate_tensor: torch.Size([1, 1, 160])\n"
          ]
        },
        {
          "output_type": "display_data",
          "data": {
            "text/plain": [
              "<Figure size 432x288 with 1 Axes>"
            ],
            "image/png": "[encoded data removed]"
          },
          "metadata": {
            "needs_background": "light"
          }
        },
        {
          "output_type": "stream",
          "name": "stdout",
          "text": [
            "input_target_covariate_tensor shape: torch.Size([1000, 1, 5])\n",
            "hidden shape: torch.Size([1, 1, 50])\n",
            "next_covariate_tensor: torch.Size([1, 1, 160])\n"
          ]
        },
        {
          "output_type": "display_data",
          "data": {
            "text/plain": [
              "<Figure size 432x288 with 1 Axes>"
            ],
            "image/png": "[encoded data removed]"
          },
          "metadata": {
            "needs_background": "light"
          }
        },
        {
          "output_type": "stream",
          "name": "stdout",
          "text": [
            "input_target_covariate_tensor shape: torch.Size([1000, 1, 5])\n",
            "hidden shape: torch.Size([1, 1, 50])\n",
            "next_covariate_tensor: torch.Size([1, 1, 160])\n"
          ]
        },
        {
          "output_type": "display_data",
          "data": {
            "text/plain": [
              "<Figure size 432x288 with 1 Axes>"
            ],
            "image/png": "[encoded data removed]"
          },
          "metadata": {
            "needs_background": "light"
          }
        },
        {
          "output_type": "stream",
          "name": "stdout",
          "text": [
            "input_target_covariate_tensor shape: torch.Size([1000, 1, 5])\n",
            "hidden shape: torch.Size([1, 1, 50])\n",
            "next_covariate_tensor: torch.Size([1, 1, 160])\n"
          ]
        },
        {
          "output_type": "display_data",
          "data": {
            "text/plain": [
              "<Figure size 432x288 with 1 Axes>"
            ],
            "image/png": "[encoded data removed]"
          },
          "metadata": {
            "needs_background": "light"
          }
        }
      ]
    }
  ]
}